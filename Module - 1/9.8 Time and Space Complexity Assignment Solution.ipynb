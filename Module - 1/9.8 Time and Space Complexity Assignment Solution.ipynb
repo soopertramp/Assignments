{
  "nbformat": 4,
  "nbformat_minor": 0,
  "metadata": {
    "colab": {
      "provenance": [],
      "include_colab_link": true
    },
    "kernelspec": {
      "name": "python3",
      "display_name": "Python 3"
    }
  },
  "cells": [
    {
      "cell_type": "markdown",
      "metadata": {
        "id": "view-in-github",
        "colab_type": "text"
      },
      "source": [
        "<a href=\"https://colab.research.google.com/github/soopertramp/Assignments/blob/main/9.8%20Time%20and%20Space%20Complexity%20Assignment%20Solution.ipynb\" target=\"_parent\"><img src=\"https://colab.research.google.com/assets/colab-badge.svg\" alt=\"Open In Colab\"/></a>"
      ]
    },
    {
      "cell_type": "markdown",
      "metadata": {
        "id": "OUYGTTD6Q2i_"
      },
      "source": [
        "#### **Problem 1**\n",
        "\n",
        "Write a Python function which takes a string as an input and returns the reversed string as an output. \n",
        "\n",
        "\n",
        "*   Do not use any inbuilt funtion or method. Use `for` loops only.\n",
        "*   Also, do the time and space complexity analysis.\n",
        "\n"
      ]
    },
    {
      "cell_type": "code",
      "metadata": {
        "id": "jef509dzQxBU",
        "colab": {
          "base_uri": "https://localhost:8080/",
          "height": 35
        },
        "outputId": "009a5567-5a0e-413a-b33f-95e04112a89d"
      },
      "source": [
        "# Write your code here\n",
        "\n",
        "a_string = 'You’re a fascinating man, Patrick. Who knows what you might have achieved in this world, were you not quite so damaged.'\n",
        "\n",
        "def reverse_string(a_string):\n",
        "\n",
        "    '''Reverse the string'''\n",
        "\n",
        "    rev_string=''\n",
        "    for char in range(len(a_string)-1,-1,-1):                                  \n",
        "        rev_string += a_string[char]\n",
        "    return rev_string\n",
        "\n",
        "reverse_string(a_string)\n",
        "\n",
        "# Time Complexity : O(N)\n",
        "# Space Complexity : O(N)\n",
        "# Auxiliary Space : O(N)"
      ],
      "execution_count": null,
      "outputs": [
        {
          "output_type": "execute_result",
          "data": {
            "text/plain": [
              "'.degamad os etiuq ton uoy erew ,dlrow siht ni deveihca evah thgim uoy tahw swonk ohW .kcirtaP ,nam gnitanicsaf a er’uoY'"
            ],
            "application/vnd.google.colaboratory.intrinsic+json": {
              "type": "string"
            }
          },
          "metadata": {},
          "execution_count": 1
        }
      ]
    },
    {
      "cell_type": "markdown",
      "metadata": {
        "id": "wfeWSBcTgO6y"
      },
      "source": [
        "#### **Problem 2**\n",
        "\n",
        "Write a Python function which takes a list of `n` lists as an input. Each of the `n` lists have `m` non-zero positive integers each. The function should return a list which contains `n` integers corresponding to the square of the maximum of each of the `n` lists in the list of lists.\n",
        "\n",
        "Example:\n",
        "Inputs\n",
        "```\n",
        "n = 2\n",
        "m = 3\n",
        "list_of_lists = [[1, 2, 3], [5, 7, 6]]\n",
        "```\n",
        "Output:\n",
        "```\n",
        "[9, 49]\n",
        "```\n",
        "\n",
        "*   Do not use any inbuilt funtion or method. Use `for` loops only.\n",
        "*   Also, do the time and space complexity analysis.\n"
      ]
    },
    {
      "cell_type": "code",
      "metadata": {
        "id": "x2rY4yMChDPM",
        "colab": {
          "base_uri": "https://localhost:8080/"
        },
        "outputId": "e2cece05-1176-4aaa-f993-bd9cf9216298"
      },
      "source": [
        "# Write your code here\n",
        "\n",
        "list_of_list = ([[1, 2, 3],[1, 2, 13], [4,15, 7, 6], [5, 7, 6]])\n",
        "\n",
        "def max_square(list_of_list):\n",
        "\n",
        "    '''Finds the square of maximums in iinner lists'''\n",
        "\n",
        "    output_list=[]                                                             \n",
        "    for list_ in list_of_list:\n",
        "        maximum=0\n",
        "        for num in list_:\n",
        "            if num > maximum :                                                  \n",
        "                maximum = num\n",
        "        output_list.append(maximum**2)\n",
        "    return output_list\n",
        "\n",
        "max_square(list_of_list)\n",
        "\n",
        "# Time Complexity : O(m*n)\n",
        "# Space Complexity : O(N*M)\n",
        "# Auxiliary Space : O(N)"
      ],
      "execution_count": null,
      "outputs": [
        {
          "output_type": "execute_result",
          "data": {
            "text/plain": [
              "[9, 169, 225, 49]"
            ]
          },
          "metadata": {},
          "execution_count": 2
        }
      ]
    }
  ]
}
