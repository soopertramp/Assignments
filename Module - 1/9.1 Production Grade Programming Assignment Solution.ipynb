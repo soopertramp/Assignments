{
  "nbformat": 4,
  "nbformat_minor": 0,
  "metadata": {
    "kernelspec": {
      "display_name": "Python 3",
      "language": "python",
      "name": "python3"
    },
    "language_info": {
      "codemirror_mode": {
        "name": "ipython",
        "version": 3
      },
      "file_extension": ".py",
      "mimetype": "text/x-python",
      "name": "python",
      "nbconvert_exporter": "python",
      "pygments_lexer": "ipython3",
      "version": "3.7.4"
    },
    "colab": {
      "provenance": [],
      "include_colab_link": true
    }
  },
  "cells": [
    {
      "cell_type": "markdown",
      "metadata": {
        "id": "view-in-github",
        "colab_type": "text"
      },
      "source": [
        "<a href=\"https://colab.research.google.com/github/soopertramp/Assignments/blob/main/Module%20-%201/9.1%20Production%20Grade%20Programming%20Assignment%20Solution.ipynb\" target=\"_parent\"><img src=\"https://colab.research.google.com/assets/colab-badge.svg\" alt=\"Open In Colab\"/></a>"
      ]
    },
    {
      "cell_type": "markdown",
      "metadata": {
        "id": "77zLnpaNvNSp"
      },
      "source": [
        "#### **Problem 1**\n",
        "\n",
        "#### **Create a class <code>Cylinder</code> which takes two attributes <code>radius</code> and <code>height</code>.**\n",
        "\n",
        "#### **Create the following methods in this class:**\n",
        "\n",
        "* #### method <code>volume()</code> which calculates the volume of the cyinder which is defined as $V  = \\pi r^2 h$\n",
        "\n",
        "* #### method <code>surface_area()</code> which calculates the area of the cyinder which is defined as $S  = 2\\pi r h$. Assume this is an open cylinder\n"
      ]
    },
    {
      "cell_type": "code",
      "metadata": {
        "id": "-cWkCZ5OzX0G"
      },
      "source": [
        "# Write your code below. Take pi as 3.14\n",
        "class Cylinder:\n",
        "  \n",
        "  def __init__(self, radius, height):\n",
        "    self.radius = radius\n",
        "    self.height = height\n",
        "\n",
        "  def get_volume(radius, height):\n",
        "    volume = 3.14 * (radius ** 2) * height\n",
        "    return volume\n",
        "\n",
        "  def get_surface_area(radius, height):\n",
        "    area = 2 * 3.14 * radius * height\n",
        "    return area"
      ],
      "execution_count": null,
      "outputs": []
    },
    {
      "cell_type": "code",
      "metadata": {
        "id": "tgS3mhN-18b_",
        "colab": {
          "base_uri": "https://localhost:8080/"
        },
        "outputId": "22918652-9174-496e-a06d-7b54d8d8224e"
      },
      "source": [
        "# Check for sample inputs\n",
        "\n",
        "print(Cylinder.get_volume(5,8))\n",
        "print(Cylinder.get_surface_area(5,8))"
      ],
      "execution_count": null,
      "outputs": [
        {
          "output_type": "stream",
          "name": "stdout",
          "text": [
            "628.0\n",
            "251.20000000000002\n"
          ]
        }
      ]
    },
    {
      "cell_type": "markdown",
      "metadata": {
        "id": "KjPWYK0Rs8By"
      },
      "source": [
        "#### **Problem 2**\n",
        "\n",
        "#### You started your own money wallet where your customers can create their accounts and they can either deposit or withdraw money from this wallet.\n",
        "\n",
        "#### Write a Python class <code>BankAccount</code> which takes the balance as an attribute. You can initialize the balance with 0 because any new account will have 0 rupees in their wallet. Next write two methods for your class :\n",
        "\n",
        "* #### <code>withdraw()</code> method which takes the amount to be withdrawn as an argument and returns the balance after the withdrawal\n",
        "\n",
        "* #### <code>deposit()</code> method which takes the amount to be deposited as an argument and returns the balance after the deposit.\n",
        "\n",
        "#### Keep in mind that if the balance to be withdrawn exceeds the current balance, it should display a message that \"Not enough balance in your account\"\n"
      ]
    },
    {
      "cell_type": "code",
      "metadata": {
        "id": "RxVZTrenzfHC"
      },
      "source": [
        "# Write your BankAccount class below \n",
        "\n",
        "class BankAccount:\n",
        "\n",
        "  def __init__(self, balance = 0):\n",
        "    self.balance = balance\n",
        "\n",
        "  def deposit(self,amount):\n",
        "    self.balance += amount\n",
        "    return self.balance\n",
        "\n",
        "  def withdraw(self, amount):\n",
        "    if self.balance >= amount:\n",
        "      self.balance = self.balance - amount\n",
        "      return self.balance\n",
        "    else:\n",
        "      print('No Balance')"
      ],
      "execution_count": null,
      "outputs": []
    },
    {
      "cell_type": "code",
      "metadata": {
        "id": "N1Yhpkiws8B3"
      },
      "source": [
        "# Create two instances of this class for two customers\n",
        "\n",
        "Pradeep_account = BankAccount()\n",
        "Priya_account = BankAccount(balance = 1000)"
      ],
      "execution_count": null,
      "outputs": []
    },
    {
      "cell_type": "markdown",
      "metadata": {
        "id": "mSTxPcO3fWeX"
      },
      "source": [
        "### Next add some amount and withdraw some another amount for both the customers."
      ]
    },
    {
      "cell_type": "code",
      "metadata": {
        "id": "KpMdlB5Fs8B8",
        "colab": {
          "base_uri": "https://localhost:8080/"
        },
        "outputId": "f3bd408c-670d-4fb3-9239-6b88c1792b76"
      },
      "source": [
        "# Deposit some amount and withdrawing some amount from the two accounts and check if your method works fine\n",
        "\n",
        "Pradeep_account.deposit(1000)"
      ],
      "execution_count": null,
      "outputs": [
        {
          "output_type": "execute_result",
          "data": {
            "text/plain": [
              "1000"
            ]
          },
          "metadata": {},
          "execution_count": 5
        }
      ]
    },
    {
      "cell_type": "code",
      "source": [
        "Pradeep_account.withdraw(500)"
      ],
      "metadata": {
        "colab": {
          "base_uri": "https://localhost:8080/"
        },
        "id": "q9C3RBFV-Dvc",
        "outputId": "3e217c2f-9b14-4eaa-893b-c9f1eb4d6261"
      },
      "execution_count": null,
      "outputs": [
        {
          "output_type": "execute_result",
          "data": {
            "text/plain": [
              "500"
            ]
          },
          "metadata": {},
          "execution_count": 6
        }
      ]
    },
    {
      "cell_type": "code",
      "source": [
        "Pradeep_account.withdraw(500)"
      ],
      "metadata": {
        "colab": {
          "base_uri": "https://localhost:8080/"
        },
        "id": "Rwm8HEDq-LkD",
        "outputId": "916b7a94-d1b3-4d61-8e47-a19a51c84961"
      },
      "execution_count": null,
      "outputs": [
        {
          "output_type": "execute_result",
          "data": {
            "text/plain": [
              "0"
            ]
          },
          "metadata": {},
          "execution_count": 7
        }
      ]
    },
    {
      "cell_type": "code",
      "source": [
        "Pradeep_account.withdraw(500)"
      ],
      "metadata": {
        "colab": {
          "base_uri": "https://localhost:8080/"
        },
        "id": "d5Avppub-Tsu",
        "outputId": "78c01250-447a-482f-d77a-487d2df2f369"
      },
      "execution_count": null,
      "outputs": [
        {
          "output_type": "stream",
          "name": "stdout",
          "text": [
            "No Balance\n"
          ]
        }
      ]
    },
    {
      "cell_type": "code",
      "source": [
        "Priya_account.deposit(2000)"
      ],
      "metadata": {
        "colab": {
          "base_uri": "https://localhost:8080/"
        },
        "id": "rBklFE0a2Nzs",
        "outputId": "c714429c-4dfe-4739-ebae-e90b80b0ff8c"
      },
      "execution_count": null,
      "outputs": [
        {
          "output_type": "execute_result",
          "data": {
            "text/plain": [
              "3000"
            ]
          },
          "metadata": {},
          "execution_count": 9
        }
      ]
    },
    {
      "cell_type": "code",
      "source": [
        "Priya_account.withdraw(1895)"
      ],
      "metadata": {
        "colab": {
          "base_uri": "https://localhost:8080/"
        },
        "id": "vlVplcOR2Vly",
        "outputId": "1ab8a0e0-952b-4c4d-9b27-80eb05e0bb85"
      },
      "execution_count": null,
      "outputs": [
        {
          "output_type": "execute_result",
          "data": {
            "text/plain": [
              "1105"
            ]
          },
          "metadata": {},
          "execution_count": 10
        }
      ]
    },
    {
      "cell_type": "code",
      "source": [
        "Priya_account.balance"
      ],
      "metadata": {
        "colab": {
          "base_uri": "https://localhost:8080/"
        },
        "id": "FBbIZLMA2Vqq",
        "outputId": "649a9ec1-f9e7-42b4-84ea-d9f1ba3d52f9"
      },
      "execution_count": null,
      "outputs": [
        {
          "output_type": "execute_result",
          "data": {
            "text/plain": [
              "1105"
            ]
          },
          "metadata": {},
          "execution_count": 11
        }
      ]
    },
    {
      "cell_type": "markdown",
      "metadata": {
        "id": "5qd8g8UUs8CM"
      },
      "source": [
        "#### **Problem 3**\n",
        "\n",
        "#### Create a class <code>Time </code> which takes two inputs hours and minutes to instantiate.\n",
        "*  #### Construct a method <code>DisplayTime()</code> which displays the time in AM/PM formats. For example if the input is 14 hours and 45 mins, then this method will print \"The time is 2:45 PM\". If the inputted hours exceeds 23 then print the message \"The input hours should be less than 24\" and if the inputted minutes exceeds 59 then print the message \"The input minutes should be less than 60.\" Also if the input is 12 hours 30 minutes, then the displayed time would be 12:30 PM\n",
        "* #### Construct a method <code>DisplayRatio()</code> which should display the ratio of minutes to hours. For example, (8 hours and  16 mins) should display 2. Use <code>try</code>, <code>except</code> block to account for ZeroDivisionError."
      ]
    },
    {
      "cell_type": "code",
      "metadata": {
        "id": "FBJy9Sq_s8CN"
      },
      "source": [
        "class Time:\n",
        "\n",
        "  def __init__(self, hours, minutes):\n",
        "    self.hours = hours\n",
        "    self.minutes = minutes\n",
        "\n",
        "  def DisplayTime(self):\n",
        "    if (self.hours > 23) or (self.minutes > 59):\n",
        "        print('The input hours should be less than 24 and 60 Minutes')\n",
        "    else:\n",
        "      if (self.hours < 12) and (self.minutes < 60):\n",
        "        time_to_display = str(self.hours) + \":\" + str(self.minutes) + \" AM\"\n",
        "        print(f\"The time is {time_to_display}\")\n",
        "      elif (self.hours == 12) and (self.minutes < 60):\n",
        "        time_to_display = str(self.hours) + \":\" + str(self.minutes) + \" PM\"\n",
        "        print(f\"The time is {time_to_display}\")\n",
        "      else:\n",
        "        time_to_display = str(self.hours - 12) + \":\" + str(self.minutes) + \" PM\"\n",
        "        print(f\"The time is {time_to_display}\")\n",
        "  \n",
        "  def DisplayRatio(self):\n",
        "    try:\n",
        "      print(self.minutes/self.hours)\n",
        "    except:\n",
        "      print(\"The argument 'hours' should not be zero.\")"
      ],
      "execution_count": null,
      "outputs": []
    },
    {
      "cell_type": "code",
      "metadata": {
        "id": "zywXa51d6Eev",
        "colab": {
          "base_uri": "https://localhost:8080/"
        },
        "outputId": "297a7e95-5096-4287-bdd7-3af42eb41ca8"
      },
      "source": [
        "# Check for few sample inputs of hours and mins\n",
        "hour_min_list = [(23,45), (34,50), (12,34), (14,67),(19,20), (2,15), (0, 10)]\n",
        "\n",
        "# Using a for loop display the corresponding 12 hour time format for the above hour_min_list\n",
        "\n",
        "for hour,mins in hour_min_list:\n",
        "  c = Time(hour, mins)\n",
        "  c.DisplayTime()"
      ],
      "execution_count": null,
      "outputs": [
        {
          "output_type": "stream",
          "name": "stdout",
          "text": [
            "The time is 11:45 PM\n",
            "The input hours should be less than 24 and 60 Minutes\n",
            "The time is 12:34 PM\n",
            "The input hours should be less than 24 and 60 Minutes\n",
            "The time is 7:20 PM\n",
            "The time is 2:15 AM\n",
            "The time is 0:10 AM\n"
          ]
        }
      ]
    },
    {
      "cell_type": "code",
      "source": [
        "# Also display the corresponding ratios for the above list\n",
        "\n",
        "for hour,mins in hour_min_list:\n",
        "  d = Time(hour, mins)\n",
        "  d.DisplayRatio()"
      ],
      "metadata": {
        "colab": {
          "base_uri": "https://localhost:8080/"
        },
        "id": "KjkWgxWeAFmZ",
        "outputId": "cf2c6fda-71c9-4d7c-9829-69b273dcb7fe"
      },
      "execution_count": null,
      "outputs": [
        {
          "output_type": "stream",
          "name": "stdout",
          "text": [
            "1.9565217391304348\n",
            "1.4705882352941178\n",
            "2.8333333333333335\n",
            "4.785714285714286\n",
            "1.0526315789473684\n",
            "7.5\n",
            "The argument 'hours' should not be zero.\n"
          ]
        }
      ]
    }
  ]
}