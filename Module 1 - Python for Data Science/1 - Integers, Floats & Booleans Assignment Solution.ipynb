{
  "nbformat": 4,
  "nbformat_minor": 0,
  "metadata": {
    "kernelspec": {
      "display_name": "Python 3",
      "language": "python",
      "name": "python3"
    },
    "language_info": {
      "codemirror_mode": {
        "name": "ipython",
        "version": 3
      },
      "file_extension": ".py",
      "mimetype": "text/x-python",
      "name": "python",
      "nbconvert_exporter": "python",
      "pygments_lexer": "ipython3",
      "version": "3.7.4"
    },
    "colab": {
      "provenance": [],
      "collapsed_sections": [],
      "include_colab_link": true
    }
  },
  "cells": [
    {
      "cell_type": "markdown",
      "metadata": {
        "id": "view-in-github",
        "colab_type": "text"
      },
      "source": [
        "<a href=\"https://colab.research.google.com/github/soopertramp/Assignments/blob/main/1.%20Integers%2C%20Floats%20%26%20Booleans%20Assignment%20Solution.ipynb\" target=\"_parent\"><img src=\"https://colab.research.google.com/assets/colab-badge.svg\" alt=\"Open In Colab\"/></a>"
      ]
    },
    {
      "cell_type": "markdown",
      "metadata": {
        "id": "JRdjdmztDelX"
      },

      ]
    },
    {
      "cell_type": "markdown",
      "metadata": {
        "id": "8ECk3jeWDelY"
      },
      "source": [
        "#### **Problem 1**\n",
        "\n",
        "In a cricket tournament, based on the outcome of a particular match a team gets following points:\n",
        "* <code>wins</code> gets <code>3</code> points\n",
        "* <code>draws</code> gets <code>1</code> points\n",
        "* <code>losses</code> gets <code>0</code> points\n",
        "\n",
        "Team Aravali plays <code>8</code> matches in this tournament. It wins <code>4</code> matches, loses <code>3</code> matches and draws <code>1</code>. What is the total number of points gained by the Team Aravali?"
      ]
    },
    {
      "cell_type": "code",
      "metadata": {
        "id": "m68YV3OhDelZ"
      },
      "source": [
        "# The outcome variables are defined below\n",
        "wins = 4\n",
        "losses = 3\n",
        "draws = 1"
      ],
      "execution_count": null,
      "outputs": []
    },
    {
      "cell_type": "code",
      "metadata": {
        "id": "2cnTsWvODelc"
      },
      "source": [
        "# Calculate the total points gained by Team Aravali\n",
        "aravali_points = wins * 3 + losses * 0 + draws * 1\n"
      ],
      "execution_count": null,
      "outputs": []
    },
    {
      "cell_type": "code",
      "metadata": {
        "id": "4ccas7cPDelf",
        "colab": {
          "base_uri": "https://localhost:8080/"
        },
        "outputId": "86ee7140-30a5-4ca5-c601-1ee80ee183b8"
      },
      "source": [
        "# Print the variable aravali_points\n",
        "print(aravali_points)"
      ],
      "execution_count": null,
      "outputs": [
        {
          "output_type": "stream",
          "name": "stdout",
          "text": [
            "13\n"
          ]
        }
      ]
    },
    {
      "cell_type": "markdown",
      "metadata": {
        "id": "-ioInfYKDelh"
      },
      "source": [
        "#### **Problem 2**\n",
        "\n",
        "* Root of a function $f(x)$ is defined as the value $x$ where $f(x)=0$ \n",
        "* Consider a quadratic function $ f(x) = x^2 + 3x - 4$\n",
        "\n",
        "#### Find the value of the function $f(x)$ at points   $x=2,x=-1, x=1$."
      ]
    },
    {
      "cell_type": "code",
      "metadata": {
        "id": "4_HZwes5Delh"
      },
      "source": [
        "# Calculate the value of the function f(x) at x = 2\n",
        "func_evaluated_at_2 = 2 ** 2 + 3 * 2 - 4 "
      ],
      "execution_count": null,
      "outputs": []
    },
    {
      "cell_type": "code",
      "metadata": {
        "id": "zBkLIXk2Dell",
        "colab": {
          "base_uri": "https://localhost:8080/"
        },
        "outputId": "9270ae15-6e46-49d7-d57f-c14dab655163"
      },
      "source": [
        "# Print the value below\n",
        "print(func_evaluated_at_2)"
      ],
      "execution_count": null,
      "outputs": [
        {
          "output_type": "stream",
          "name": "stdout",
          "text": [
            "6\n"
          ]
        }
      ]
    },
    {
      "cell_type": "code",
      "metadata": {
        "id": "uD4MAyKIDelo"
      },
      "source": [
        "# Calculate the value of the function f(x) at x = -1\n",
        "func_evaluated_at_minus1 = (-1) ** 2 + 3 * (-1) - 4"
      ],
      "execution_count": null,
      "outputs": []
    },
    {
      "cell_type": "code",
      "metadata": {
        "id": "Jx9WVMQ2Delq",
        "colab": {
          "base_uri": "https://localhost:8080/"
        },
        "outputId": "df9cfb93-4a0a-4f81-e002-758c81f1e0df"
      },
      "source": [
        "# Print the value below\n",
        "print(func_evaluated_at_minus1)"
      ],
      "execution_count": null,
      "outputs": [
        {
          "output_type": "stream",
          "name": "stdout",
          "text": [
            "-6\n"
          ]
        }
      ]
    },
    {
      "cell_type": "code",
      "metadata": {
        "id": "h8PgF85VDelu"
      },
      "source": [
        "# Calculate the value of the function f(x) at x = 1\n",
        "func_evaluated_at_1 = 1 ** 1 + 3 * 1 - 4"
      ],
      "execution_count": null,
      "outputs": []
    },
    {
      "cell_type": "code",
      "metadata": {
        "id": "BdrFgug6Delw",
        "colab": {
          "base_uri": "https://localhost:8080/"
        },
        "outputId": "e8d63379-254d-4b25-ecae-c4288d2b56ce"
      },
      "source": [
        "# Print the type of the variable below\n",
        "print(func_evaluated_at_1)\n",
        "type(func_evaluated_at_1)"
      ],
      "execution_count": null,
      "outputs": [
        {
          "output_type": "stream",
          "name": "stdout",
          "text": [
            "0\n"
          ]
        },
        {
          "output_type": "execute_result",
          "data": {
            "text/plain": [
              "int"
            ]
          },
          "metadata": {},
          "execution_count": 9
        }
      ]
    },
    {
      "cell_type": "markdown",
      "metadata": {
        "id": "EvldlcwqDelz"
      },
      "source": [
        "#### Return the boolean for each value of $x$ to find out whether that value is a root of $f(x)$"
      ]
    },
    {
      "cell_type": "code",
      "metadata": {
        "id": "-tUSAgzgDel0",
        "colab": {
          "base_uri": "https://localhost:8080/"
        },
        "outputId": "365df2df-01ce-4ab3-d516-1cfa29886eb0"
      },
      "source": [
        "# Check whether 2 is a root of f(x)\n",
        "func_evaluated_at_2 == 0"
      ],
      "execution_count": null,
      "outputs": [
        {
          "output_type": "execute_result",
          "data": {
            "text/plain": [
              "False"
            ]
          },
          "metadata": {},
          "execution_count": 10
        }
      ]
    },
    {
      "cell_type": "code",
      "metadata": {
        "id": "gsNS4Ki4Del2",
        "colab": {
          "base_uri": "https://localhost:8080/"
        },
        "outputId": "395193ad-676f-414a-a38b-bde3c5e86401"
      },
      "source": [
        "# Check whether -1 is a root of f(x)\n",
        "func_evaluated_at_minus1 == 0"
      ],
      "execution_count": null,
      "outputs": [
        {
          "output_type": "execute_result",
          "data": {
            "text/plain": [
              "False"
            ]
          },
          "metadata": {},
          "execution_count": 11
        }
      ]
    },
    {
      "cell_type": "code",
      "metadata": {
        "id": "yExDY-ZXDel4",
        "colab": {
          "base_uri": "https://localhost:8080/"
        },
        "outputId": "f84cab73-3a37-47c3-cbac-6323e62c8a7f"
      },
      "source": [
        "# Check whether 1 is a root of f(x)\n",
        "func_evaluated_at_1 == 0"
      ],
      "execution_count": null,
      "outputs": [
        {
          "output_type": "execute_result",
          "data": {
            "text/plain": [
              "True"
            ]
          },
          "metadata": {},
          "execution_count": 12
        }
      ]
    },
    {
      "cell_type": "markdown",
      "metadata": {
        "id": "tNAI2AHRDel6"
      },
      "source": [
        "#### **Problem 3**\n",
        "\n",
        "A bag contains <code>45</code> apples, <code>65</code> oranges and <code>30</code> bananas. Find the percentage of each type of food items in the bag."
      ]
    },
    {
      "cell_type": "code",
      "metadata": {
        "id": "XJ9Rq4P3Del7",
        "colab": {
          "base_uri": "https://localhost:8080/"
        },
        "outputId": "ce3ccb2b-6c1d-413b-b811-2d5a793a57a2"
      },
      "source": [
        "apples = 45\n",
        "oranges = 65\n",
        "bananas = 30\n",
        "\n",
        "total_no_fruits = apples + oranges + bananas\n",
        "total_no_fruits"
      ],
      "execution_count": null,
      "outputs": [
        {
          "output_type": "execute_result",
          "data": {
            "text/plain": [
              "140"
            ]
          },
          "metadata": {},
          "execution_count": 13
        }
      ]
    },
    {
      "cell_type": "code",
      "source": [
        "# Calculate the percentage of apples and print the variable\n",
        "\n",
        "per_of_apples  = apples / total_no_fruits * 100\n",
        "print(per_of_apples)"
      ],
      "metadata": {
        "colab": {
          "base_uri": "https://localhost:8080/"
        },
        "id": "QdwncnmdRtfn",
        "outputId": "6154fcff-0126-465d-c341-1ab8ffa1eac0"
      },
      "execution_count": null,
      "outputs": [
        {
          "output_type": "stream",
          "name": "stdout",
          "text": [
            "32.142857142857146\n"
          ]
        }
      ]
    },
    {
      "cell_type": "code",
      "metadata": {
        "id": "S6lJZtaXDel9",
        "colab": {
          "base_uri": "https://localhost:8080/"
        },
        "outputId": "580b1dec-95c8-4a7a-e5b6-a681e0a526b0"
      },
      "source": [
        "# Calculate the percentage of oranges and print the variable\n",
        "\n",
        "per_of_oranges = oranges / total_no_fruits * 100\n",
        "print(per_of_oranges)"
      ],
      "execution_count": null,
      "outputs": [
        {
          "output_type": "stream",
          "name": "stdout",
          "text": [
            "46.42857142857143\n"
          ]
        }
      ]
    },
    {
      "cell_type": "code",
      "metadata": {
        "id": "mHzMnSZrDemB",
        "colab": {
          "base_uri": "https://localhost:8080/"
        },
        "outputId": "403fbd8b-2004-48ff-8ec9-84ab5d7e1409"
      },
      "source": [
        "# Calculate the percentage of bananas and print the variable\n",
        "\n",
        "per_of_bananas = bananas / total_no_fruits * 100\n",
        "print(per_of_bananas)"
      ],
      "execution_count": null,
      "outputs": [
        {
          "output_type": "stream",
          "name": "stdout",
          "text": [
            "21.428571428571427\n"
          ]
        }
      ]
    },
    {
      "cell_type": "code",
      "source": [
        "per_of_apples + per_of_bananas + per_of_oranges"
      ],
      "metadata": {
        "colab": {
          "base_uri": "https://localhost:8080/"
        },
        "id": "bSIJNSFeSS2G",
        "outputId": "3419557a-8164-4905-aec3-cd7a210ded4d"
      },
      "execution_count": null,
      "outputs": [
        {
          "output_type": "execute_result",
          "data": {
            "text/plain": [
              "100.0"
            ]
          },
          "metadata": {},
          "execution_count": 17
        }
      ]
    },
    {
      "cell_type": "markdown",
      "metadata": {
        "id": "F44LczfzDemD"
      },
      "source": [
        "#### **Problem 4**\n",
        "\n",
        "You were playing a fun guessing game during your school break. There were a total of 100 participants excluding you. Out of these 100 people, 30 were Maths Majors, 45 were Economics Majors and 25 were Physics Majors.\n",
        "\n",
        "The game was divided into three rounds.\n",
        "\n",
        "* In the first round, you had to guess the number of Maths Majors and you <b>correctly</b> guessed 20 of them.\n",
        "* In the second round, you had to guess the number of Economics Majors and you <b>correctly</b> guessed 30 of them.\n",
        "* In the final third round, you had to guess the number of Physics Majors and you <b>correctly</b> guessed 20 of them.\n",
        "\n",
        "#### Accuracy is defined as the number of correct guesses upon total number of people in the group (expressed in percentage)"
      ]
    },
    {
      "cell_type": "markdown",
      "metadata": {
        "id": "lkGEV_zpDemE"
      },
      "source": [
        "#### Define your variables"
      ]
    },
    {
      "cell_type": "code",
      "metadata": {
        "id": "OfXY9LcVDemF"
      },
      "source": [
        "# Store the number of Maths majors\n",
        "\n",
        "math_majors = 30\n",
        "\n",
        "# Store the number of Economics majors\n",
        "\n",
        "economics_majors = 45\n",
        "\n",
        "# Store the number of Physics majors\n",
        "\n",
        "physics_majors = 25\n",
        "\n",
        "# Store the number of your correct guesses of Maths majors\n",
        "\n",
        "correct_guesses_of_maths_majors = 20\n",
        "\n",
        "# Store the number of your correct guesses of Economics majors\n",
        "\n",
        "correct_guesses_of_economics_majors = 30\n",
        "\n",
        "# Store the number of your correct guesses of Physics majors\n",
        "\n",
        "correct_guesses_of_physics_majors = 20"
      ],
      "execution_count": null,
      "outputs": []
    },
    {
      "cell_type": "markdown",
      "metadata": {
        "id": "Eg_Or6GmDemI"
      },
      "source": [
        "#### Calculate your accuracy in each of the three rounds"
      ]
    },
    {
      "cell_type": "code",
      "metadata": {
        "id": "QUbDKOR3DemJ",
        "colab": {
          "base_uri": "https://localhost:8080/"
        },
        "outputId": "35f123cd-5730-4677-de1c-cea2ac5379d6"
      },
      "source": [
        "# Print the Maths accuracy\n",
        "\n",
        "math_accuracy = correct_guesses_of_maths_majors / math_majors * 100\n",
        "print(math_accuracy)"
      ],
      "execution_count": null,
      "outputs": [
        {
          "output_type": "stream",
          "name": "stdout",
          "text": [
            "66.66666666666666\n"
          ]
        }
      ]
    },
    {
      "cell_type": "code",
      "metadata": {
        "id": "PfX4DowhDemM",
        "colab": {
          "base_uri": "https://localhost:8080/"
        },
        "outputId": "28bd19f1-5b5f-451b-e94c-929c79f183a1"
      },
      "source": [
        "# Print the Economics accuracy\n",
        "\n",
        "economics_accuracy = correct_guesses_of_economics_majors / economics_majors * 100\n",
        "print(economics_accuracy)"
      ],
      "execution_count": null,
      "outputs": [
        {
          "output_type": "stream",
          "name": "stdout",
          "text": [
            "66.66666666666666\n"
          ]
        }
      ]
    },
    {
      "cell_type": "code",
      "metadata": {
        "id": "ZV-hzGKCDemP",
        "colab": {
          "base_uri": "https://localhost:8080/"
        },
        "outputId": "f8e1e06a-0798-4192-e9a4-96ae6845e9ce"
      },
      "source": [
        "# Print the Physics accuracy\n",
        "\n",
        "physics_accuracy = correct_guesses_of_physics_majors / physics_majors * 100\n",
        "print(physics_accuracy)"
      ],
      "execution_count": null,
      "outputs": [
        {
          "output_type": "stream",
          "name": "stdout",
          "text": [
            "80.0\n"
          ]
        }
      ]
    },
    {
      "cell_type": "markdown",
      "metadata": {
        "id": "FvKZonnwDemS"
      },
      "source": [
        "#### Calculate your overall accuracy in the entire game"
      ]
    },
    {
      "cell_type": "code",
      "metadata": {
        "id": "eP3JkusLDemT",
        "colab": {
          "base_uri": "https://localhost:8080/"
        },
        "outputId": "7ed2c968-4f32-4e9f-da30-1d5e55c5d5c5"
      },
      "source": [
        "# Print the overall accuracy\n",
        "\n",
        "overall_accuracy = ( math_accuracy + physics_accuracy + economics_accuracy ) / 3\n",
        "print(overall_accuracy)"
      ],
      "execution_count": null,
      "outputs": [
        {
          "output_type": "stream",
          "name": "stdout",
          "text": [
            "71.1111111111111\n"
          ]
        }
      ]
    }
  ]
}
