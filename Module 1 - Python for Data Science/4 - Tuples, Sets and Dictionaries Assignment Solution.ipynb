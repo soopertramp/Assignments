{
  "nbformat": 4,
  "nbformat_minor": 0,
  "metadata": {
    "kernelspec": {
      "display_name": "Python 3",
      "language": "python",
      "name": "python3"
    },
    "language_info": {
      "codemirror_mode": {
        "name": "ipython",
        "version": 3
      },
      "file_extension": ".py",
      "mimetype": "text/x-python",
      "name": "python",
      "nbconvert_exporter": "python",
      "pygments_lexer": "ipython3",
      "version": "3.7.4"
    },
    "colab": {
      "provenance": [],
      "collapsed_sections": [],
      "include_colab_link": true
    }
  },
  "cells": [
    {
      "cell_type": "markdown",
      "metadata": {
        "id": "view-in-github",
        "colab_type": "text"
      },
      "source": [
        "<a href=\"https://colab.research.google.com/github/soopertramp/Assignments/blob/main/4.%20Tuples%2C%20Sets%20and%20Dictionaries%20Assignment%20Solution.ipynb\" target=\"_parent\"><img src=\"https://colab.research.google.com/assets/colab-badge.svg\" alt=\"Open In Colab\"/></a>"
      ]
    },
    {
      "cell_type": "markdown",
      "metadata": {
        "id": "8WbUJEVzs8Bx"
      },
      "source": [
        ""
      ]
    },
    {
      "cell_type": "markdown",
      "metadata": {
        "id": "KjPWYK0Rs8By"
      },
      "source": [
        "#### **Problem 1**\n",
        "\n",
        "#### **Another measure of average**\n",
        "\n",
        "* Mode is defined as the value that appears most often in a set of data values. Mode corresponds to the most frequent value.\n",
        "* You are given a list of numbers and you need to calculate the mode of this list"
      ]
    },
    {
      "cell_type": "code",
      "metadata": {
        "id": "34TbaGurs8Bz"
      },
      "source": [
        "# A list containing average daily temperature over 10 days\n",
        "temperatures = [34, 40, 29, 33, 42, 40, 39, 34, 34,33 ]"
      ],
      "execution_count": null,
      "outputs": []
    },
    {
      "cell_type": "code",
      "metadata": {
        "id": "N1Yhpkiws8B3"
      },
      "source": [
        "# Step 1 : Find the unique set of values. Store this in a list\n",
        "unique_temperatures = list(set(temperatures))"
      ],
      "execution_count": null,
      "outputs": []
    },
    {
      "cell_type": "code",
      "metadata": {
        "id": "KpMdlB5Fs8B8",
        "colab": {
          "base_uri": "https://localhost:8080/"
        },
        "outputId": "3111c12f-37b3-4b53-b86e-0426a0081328"
      },
      "source": [
        "# Print the unique temperature list\n",
        "print(unique_temperatures)"
      ],
      "execution_count": null,
      "outputs": [
        {
          "output_type": "stream",
          "name": "stdout",
          "text": [
            "[33, 34, 39, 40, 42, 29]\n"
          ]
        }
      ]
    },
    {
      "cell_type": "code",
      "metadata": {
        "id": "J7CyJi_Ls8B_",
        "colab": {
          "base_uri": "https://localhost:8080/"
        },
        "outputId": "3f999887-e10d-4842-d365-9c525b25d30c"
      },
      "source": [
        "# Step 2 : Create an empty dictionary which will contain the unique temperatures as keys and their counts in the original temperatures list as values\n",
        "temp_dict = {}\n",
        "\n",
        "# Set the values for each key separately\n",
        "\n",
        "key, value = [], []\n",
        "\n",
        "# First key\n",
        "\n",
        "key.append(unique_temperatures[0])\n",
        "value.append(temperatures.count(unique_temperatures[0]))\n",
        "\n",
        "# Second key\n",
        "\n",
        "key.append(unique_temperatures[1])\n",
        "value.append(temperatures.count(unique_temperatures[1]))\n",
        "\n",
        "# Third key\n",
        "\n",
        "key.append(unique_temperatures[2])\n",
        "value.append(temperatures.count(unique_temperatures[2]))\n",
        "\n",
        "# Fourth key\n",
        "\n",
        "key.append(unique_temperatures[3])\n",
        "value.append(temperatures.count(unique_temperatures[3]))\n",
        "\n",
        "# Fifth key\n",
        "\n",
        "key.append(unique_temperatures[4])\n",
        "value.append(temperatures.count(unique_temperatures[4]))\n",
        "\n",
        "# Sixth key\n",
        "\n",
        "key.append(unique_temperatures[5])\n",
        "value.append(temperatures.count(unique_temperatures[5]))\n",
        "\n",
        "temp_dict = zip(key, value)\n",
        "temp_dict = dict(temp_dict)\n",
        "print(temp_dict)"
      ],
      "execution_count": null,
      "outputs": [
        {
          "output_type": "stream",
          "name": "stdout",
          "text": [
            "{33: 2, 34: 3, 39: 1, 40: 2, 42: 1, 29: 1}\n"
          ]
        }
      ]
    },
    {
      "cell_type": "code",
      "metadata": {
        "id": "4-ZxbmMxtWfQ",
        "colab": {
          "base_uri": "https://localhost:8080/"
        },
        "outputId": "2781d90a-2945-47d5-edd7-5466c1fac6b3"
      },
      "source": [
        "# Step 3: Store the dictionary values in a list\n",
        "temp_dict_frequencies = list(temp_dict.values())\n",
        "\n",
        "# Print the list of dictionary values\n",
        "print(temp_dict_frequencies)\n",
        "\n",
        "# Find the index of the most frequent temperature value\n",
        "most_frequent_temp_index = tuple(temp_dict_frequencies).index(max(temp_dict_frequencies))\n",
        "\n",
        "# Print the index\n",
        "print(most_frequent_temp_index)"
      ],
      "execution_count": null,
      "outputs": [
        {
          "output_type": "stream",
          "name": "stdout",
          "text": [
            "[2, 3, 1, 2, 1, 1]\n",
            "1\n"
          ]
        }
      ]
    },
    {
      "cell_type": "code",
      "metadata": {
        "id": "riu9mZhcwBY6",
        "colab": {
          "base_uri": "https://localhost:8080/"
        },
        "outputId": "a2327729-bd02-4a08-8438-34ee39a886c2"
      },
      "source": [
        "# Step 4 : Create the list of dictionary keys\n",
        "temp_dict_keys = list(temp_dict.keys())\n",
        "\n",
        "# Print the list of dictionary keys\n",
        "\n",
        "#print(temp_dict_keys)\n",
        "\n",
        "# Calculate the mode temperature\n",
        "mode_temp = temp_dict_keys[most_frequent_temp_index]\n",
        "print(f'The most frequent temperature is {mode_temp}')"
      ],
      "execution_count": null,
      "outputs": [
        {
          "output_type": "stream",
          "name": "stdout",
          "text": [
            "The most frequent temperature is 34\n"
          ]
        }
      ]
    },
    {
      "cell_type": "markdown",
      "metadata": {
        "id": "5qd8g8UUs8CM"
      },
      "source": [
        "#### **Problem 2**\n",
        "\n",
        "#### **Challenging the immutability of tuples**\n",
        "\n",
        "You are given a list of tuples. You need to replace the last element of the last tuple"
      ]
    },
    {
      "cell_type": "code",
      "metadata": {
        "id": "FBJy9Sq_s8CN"
      },
      "source": [
        "# Input list of tuples\n",
        "\n",
        "list_of_tuples = [(10,20,30),(30,40,50),(50,60,70)]\n",
        "\n",
        "\n",
        "# Expected output : Replace the last element 70 with 100\n",
        "# output_list = [(10,20,30),(30,40,50),(50,60,100)]"
      ],
      "execution_count": null,
      "outputs": []
    },
    {
      "cell_type": "code",
      "metadata": {
        "id": "UNtYax1as8CR",
        "colab": {
          "base_uri": "https://localhost:8080/"
        },
        "outputId": "23925309-4f60-43ed-b11a-5ebaa929731b"
      },
      "source": [
        "# Your code here \n",
        "\n",
        "list_of_tuples_changed = list(list_of_tuples[2])\n",
        "list_of_tuples_changed[2] = 100\n",
        "list_of_tuples[2] = tuple(list_of_tuples_changed )\n",
        "\n",
        "# Print the output list\n",
        "print(list_of_tuples)"
      ],
      "execution_count": null,
      "outputs": [
        {
          "output_type": "stream",
          "name": "stdout",
          "text": [
            "[(10, 20, 30), (30, 40, 50), (50, 60, 100)]\n"
          ]
        }
      ]
    },
    {
      "cell_type": "markdown",
      "metadata": {
        "id": "ejRCi-vTs8CU"
      },
      "source": [
        "#### **Problem 3**\n",
        "\n",
        "Natural Language Processing or NLP is one of the most promising fields in Machine Learning. Most of the times in NLP we deal with the textual data (a bunch of strings). Sometimes when we are processing the text, it is a common practice to get rid of some set of stop words from our original text. By default stop words are very common words used in English language such as and, or, punctuations etc.\n",
        "\n",
        "In this exercise, you are provided with a default set of stop words and you need to add some extra set of custom words."
      ]
    },
    {
      "cell_type": "code",
      "metadata": {
        "id": "C5olNuDGs8CU",
        "colab": {
          "base_uri": "https://localhost:8080/"
        },
        "outputId": "9c6623e5-afc8-4700-92ac-ee5e0111305f"
      },
      "source": [
        "# A sample sentence \n",
        "\n",
        "sentence = 'Hello, good morning folks! Today we will announce the half yearly performance results of the company. Due to the ongoing COVID-19 pandemic, our profits have declined by 60% as compared to the last half yearly results'\n",
        "\n",
        "# Print your sentence\n",
        "\n",
        "print(sentence)"
      ],
      "execution_count": null,
      "outputs": [
        {
          "output_type": "stream",
          "name": "stdout",
          "text": [
            "Hello, good morning folks! Today we will announce the half yearly performance results of the company. Due to the ongoing COVID-19 pandemic, our profits have declined by 60% as compared to the last half yearly results\n"
          ]
        }
      ]
    },
    {
      "cell_type": "code",
      "metadata": {
        "id": "B4afm8gCs8CY"
      },
      "source": [
        "# Default set of stop words \n",
        "stop_words = {\"i\", \"me\", \"my\", \"myself\", \"we\", \"our\", \"ours\", \"ourselves\", \"you\", \"your\", \"yours\", \"yourself\", \n",
        "              \"yourselves\", \"he\", \"him\", \"his\", \"himself\", \"she\", \"her\", \"hers\", \"herself\", \"it\", \"its\", \"itself\",\n",
        "              \"they\", \"them\", \"their\", \"theirs\", \"themselves\", \"what\", \"which\", \"who\", \"whom\", \"this\", \"that\",\n",
        "              \"these\", \"those\", \"am\", \"is\", \"are\", \"was\", \"were\", \"be\", \"been\", \"being\", \"have\", \"has\", \"had\",\n",
        "              \"having\", \"do\", \"does\", \"did\", \"doing\", \"a\", \"an\", \"the\", \"and\", \"but\", \"if\", \"or\", \"because\",\n",
        "              \"as\", \"until\", \"while\", \"of\", \"at\", \"by\", \"for\", \"with\", \"about\", \"against\", \"between\", \"into\",\n",
        "              \"through\", \"during\", \"before\", \"after\", \"above\", \"below\", \"to\", \"from\", \"up\", \"down\", \"in\", \"out\", \n",
        "              \"on\", \"off\", \"over\", \"under\", \"again\", \"further\", \"then\", \"once\", \"here\", \"there\", \"when\", \"where\",\n",
        "              \"why\", \"how\", \"all\", \"any\", \"both\", \"each\", \"few\", \"more\", \"most\", \"other\", \"some\", \"such\", \"no\",\n",
        "              \"nor\", \"not\", \"only\", \"own\", \"same\", \"so\", \"than\", \"too\", \"very\", \"s\", \"t\", \"can\", \"will\", \"just\",\n",
        "              \"don\", \"should\", \"now\"}\n"
      ],
      "execution_count": null,
      "outputs": []
    },
    {
      "cell_type": "code",
      "metadata": {
        "id": "evgHHnRks8Cc",
        "colab": {
          "base_uri": "https://localhost:8080/"
        },
        "outputId": "dddd66bc-378f-4eed-c639-699e98fc9168"
      },
      "source": [
        "# Update the set of stop words by adding the custom stop words\n",
        "custom_stop_words = [\"hello\",\"good\",\"morning\",\"half\",\"yearly\"]\n",
        "\n",
        "# Your code here\n",
        "\n",
        "stop_words.update(custom_stop_words)\n",
        "\n",
        "# Print the updated stop words\n",
        "\n",
        "print(stop_words)"
      ],
      "execution_count": null,
      "outputs": [
        {
          "output_type": "stream",
          "name": "stdout",
          "text": [
            "{'himself', 'more', 'under', 's', 'and', 'their', 'while', 'myself', 'we', 'is', 'most', 'what', 'then', 'out', 'herself', 'other', 'if', 'been', 'does', 'before', 'but', 'these', 'had', 'morning', 'itself', 'having', 'the', 'than', 'both', 'me', 'yearly', 'should', 'which', 'when', 'hers', 'him', 'them', 'be', 'off', 'again', 'some', 'for', 'in', 'why', 'all', 'now', 'into', 'she', 'few', 'same', 'theirs', 'up', 'did', 'through', 'from', 'against', 'there', 'yourself', 'i', 'themselves', 'during', 'between', 'below', 'so', 'that', 'my', 'it', 'on', 'too', 'as', 'were', 'because', 'to', 'ours', 'those', 'yours', 'after', 'his', 'who', 'will', 'how', 'your', 'no', 'an', 'doing', 'a', 'further', 'not', 'of', 'you', 'hello', 'only', 'half', 'our', 'her', 'they', 'by', 'don', 'such', 'whom', 'above', 'each', 'has', 't', 'good', 'or', 'where', 'about', 'very', 'he', 'this', 'here', 'are', 'once', 'just', 'nor', 'can', 'over', 'do', 'ourselves', 'at', 'its', 'was', 'any', 'yourselves', 'being', 'am', 'own', 'have', 'down', 'with', 'until'}\n"
          ]
        }
      ]
    },
    {
      "cell_type": "code",
      "metadata": {
        "id": "1QbZrotrtIE3",
        "colab": {
          "base_uri": "https://localhost:8080/"
        },
        "outputId": "eee1a276-17fa-47d1-a314-77a5942ba8df"
      },
      "source": [
        "# Do the same task another way. Keep in mind to use the original set of stop_words for this piece of code\n",
        "\n",
        "set(custom_stop_words)\n",
        "step_words = stop_words.union(custom_stop_words)\n",
        "\n",
        "# Print the updated stop words\n",
        "print(stop_words)"
      ],
      "execution_count": null,
      "outputs": [
        {
          "output_type": "stream",
          "name": "stdout",
          "text": [
            "{'himself', 'more', 'under', 's', 'and', 'their', 'while', 'myself', 'we', 'is', 'most', 'what', 'then', 'out', 'herself', 'other', 'if', 'been', 'does', 'before', 'but', 'these', 'had', 'morning', 'itself', 'having', 'the', 'than', 'both', 'me', 'yearly', 'should', 'which', 'when', 'hers', 'him', 'them', 'be', 'off', 'again', 'some', 'for', 'in', 'why', 'all', 'now', 'into', 'she', 'few', 'same', 'theirs', 'up', 'did', 'through', 'from', 'against', 'there', 'yourself', 'i', 'themselves', 'during', 'between', 'below', 'so', 'that', 'my', 'it', 'on', 'too', 'as', 'were', 'because', 'to', 'ours', 'those', 'yours', 'after', 'his', 'who', 'will', 'how', 'your', 'no', 'an', 'doing', 'a', 'further', 'not', 'of', 'you', 'hello', 'only', 'half', 'our', 'her', 'they', 'by', 'don', 'such', 'whom', 'above', 'each', 'has', 't', 'good', 'or', 'where', 'about', 'very', 'he', 'this', 'here', 'are', 'once', 'just', 'nor', 'can', 'over', 'do', 'ourselves', 'at', 'its', 'was', 'any', 'yourselves', 'being', 'am', 'own', 'have', 'down', 'with', 'until'}\n"
          ]
        }
      ]
    },
    {
      "cell_type": "markdown",
      "metadata": {
        "id": "P1rOYC8Is8Cf"
      },
      "source": [
        "#### **Problem 4**\n",
        "\n",
        " Write a Python script to check whether a given key already exists in a dictionary. If it does, drop that key from the dictionary. If it does not, add that key and corresponding value to the dictionary"
      ]
    },
    {
      "cell_type": "code",
      "metadata": {
        "id": "ySeGyCtCs8Cg"
      },
      "source": [
        "# Your dictionary\n",
        "employee_dict = {'Name':'Sanket','Skills':['Python','Machine Learning','Deep Learning'],'Band':6.0,\n",
        "                 'Promotion Year':[2016,2018,2020]}"
      ],
      "execution_count": null,
      "outputs": []
    },
    {
      "cell_type": "code",
      "metadata": {
        "id": "MI7mOHaqs8Cj",
        "colab": {
          "base_uri": "https://localhost:8080/"
        },
        "outputId": "2695a0d8-8d02-46db-93a4-96470785329e"
      },
      "source": [
        "# Check if the key 'Employee_ID' is present in the dictionary. Hint : use a boolean variable to store this value\n",
        "\n",
        "print('Employee_ID' in employee_dict)\n",
        "\n",
        "# If not present add this key to this dictionary and the corresponding value to be 4503233\n",
        "\n",
        "employee_dict.update({'Employee_ID':123456})\n",
        "print(employee_dict)"
      ],
      "execution_count": null,
      "outputs": [
        {
          "output_type": "stream",
          "name": "stdout",
          "text": [
            "False\n",
            "{'Name': 'Sanket', 'Skills': ['Python', 'Machine Learning', 'Deep Learning'], 'Band': 6.0, 'Promotion Year': [2016, 2018, 2020], 'Employee_ID': 123456}\n"
          ]
        }
      ]
    },
    {
      "cell_type": "code",
      "metadata": {
        "id": "ARPbZfY8s8Co",
        "colab": {
          "base_uri": "https://localhost:8080/"
        },
        "outputId": "6774472b-6a8f-4521-d0b7-ea11036881e0"
      },
      "source": [
        "# Check if the key 'Band' is present in the dictionary.\n",
        "\n",
        "'Band' in employee_dict\n",
        "\n",
        "# If present, drop this key from the dictionary\n",
        "\n",
        "employee_dict.pop('Band')"
      ],
      "execution_count": null,
      "outputs": [
        {
          "output_type": "execute_result",
          "data": {
            "text/plain": [
              "6.0"
            ]
          },
          "metadata": {},
          "execution_count": 15
        }
      ]
    },
    {
      "cell_type": "code",
      "metadata": {
        "id": "lUDbbyXmulzh",
        "colab": {
          "base_uri": "https://localhost:8080/"
        },
        "outputId": "e5f227d2-8685-48f9-e3d2-3e325710fddb"
      },
      "source": [
        "# Print the updated dictionary\n",
        "\n",
        "print(employee_dict)"
      ],
      "execution_count": null,
      "outputs": [
        {
          "output_type": "stream",
          "name": "stdout",
          "text": [
            "{'Name': 'Sanket', 'Skills': ['Python', 'Machine Learning', 'Deep Learning'], 'Promotion Year': [2016, 2018, 2020], 'Employee_ID': 123456}\n"
          ]
        }
      ]
    }
  ]
}
