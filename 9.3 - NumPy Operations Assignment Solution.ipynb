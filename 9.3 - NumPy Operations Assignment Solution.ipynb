{
  "nbformat": 4,
  "nbformat_minor": 0,
  "metadata": {
    "colab": {
      "provenance": [],
      "include_colab_link": true
    },
    "kernelspec": {
      "name": "python3",
      "display_name": "Python 3"
    }
  },
  "cells": [
    {
      "cell_type": "markdown",
      "metadata": {
        "id": "view-in-github",
        "colab_type": "text"
      },
      "source": [
        "<a href=\"https://colab.research.google.com/github/soopertramp/Assignments/blob/main/9.3%20-%20NumPy%20Operations%20Assignment%20Solution.ipynb\" target=\"_parent\"><img src=\"https://colab.research.google.com/assets/colab-badge.svg\" alt=\"Open In Colab\"/></a>"
      ]
    },
    {
      "cell_type": "code",
      "metadata": {
        "id": "0V3Xtuh9siNn"
      },
      "source": [
        "import numpy as np"
      ],
      "execution_count": null,
      "outputs": []
    },
    {
      "cell_type": "markdown",
      "metadata": {
        "id": "Ase3qjp9cJUC"
      },
      "source": [
        "#### **Problem 1**\n",
        "\n",
        "#### What is the average value of the first 5 rows of the third and fourth columns?\n",
        "\n"
      ]
    },
    {
      "cell_type": "code",
      "metadata": {
        "id": "xj0SaK7smcPu",
        "outputId": "dc504756-960b-43a5-992f-e029fa41c73e",
        "colab": {
          "base_uri": "https://localhost:8080/"
        }
      },
      "source": [
        "np.random.seed(21) # This guarantees the code will generate the same set of random numbers whenever executed\n",
        "random_integers = np.random.randint(1,high=500000, size=(20, 5))\n",
        "random_integers"
      ],
      "execution_count": null,
      "outputs": [
        {
          "output_type": "execute_result",
          "data": {
            "text/plain": [
              "array([[ 80842, 333008, 202553, 140037,  81969],\n",
              "       [ 63857,  42105, 261540, 481981, 176739],\n",
              "       [489984, 326386, 110795, 394863,  25024],\n",
              "       [ 38317,  49982, 408830, 485118,  16119],\n",
              "       [407675, 231729, 265455, 109413, 103399],\n",
              "       [174677, 343356, 301717, 224120, 401101],\n",
              "       [140473, 254634, 112262,  25063, 108262],\n",
              "       [375059, 406983, 208947, 115641, 296685],\n",
              "       [444899, 129585, 171318, 313094, 425041],\n",
              "       [188411, 335140, 141681,  59641, 211420],\n",
              "       [287650,   8973, 477425, 382803, 465168],\n",
              "       [  3975,  32213, 160603, 275485, 388234],\n",
              "       [246225,  56174, 244097,   9350, 496966],\n",
              "       [225516, 273338,  73335, 283013, 212813],\n",
              "       [ 38175, 282399, 318413, 337639, 379802],\n",
              "       [198049, 101115, 419547, 260219, 325793],\n",
              "       [148593, 425024, 348570, 117968, 107007],\n",
              "       [ 52547, 180346, 178760, 305186, 262153],\n",
              "       [ 11835, 449971, 494184, 472031, 353049],\n",
              "       [476442,  35455, 191553, 384154,  29917]])"
            ]
          },
          "metadata": {},
          "execution_count": 2
        }
      ]
    },
    {
      "cell_type": "code",
      "metadata": {
        "id": "N1hhYCZw3V1c",
        "colab": {
          "base_uri": "https://localhost:8080/"
        },
        "outputId": "40dad211-d32b-4690-98cd-947cb78c694d"
      },
      "source": [
        "# Your code here\n",
        "\n",
        "average = random_integers[:5, 2:4].mean()\n",
        "print(f'The average of the asked columns is {average}')"
      ],
      "execution_count": null,
      "outputs": [
        {
          "output_type": "stream",
          "name": "stdout",
          "text": [
            "The average of the asked columns is 286058.5\n"
          ]
        }
      ]
    },
    {
      "cell_type": "markdown",
      "metadata": {
        "id": "POAj5sBgd3gd"
      },
      "source": [
        "#### **Problem 2** \n",
        "\n",
        "#### In this problem, we are going to calculate distances between some pairs of points :\n",
        "\n",
        "#### Measures of distances \n",
        "* #### Euclidean Distance : The distance between two points $(x_{1},y_{1})$ , $(x_{2},y_{2})$ is defined as :\n",
        "${\\displaystyle d(x,y)={\\sqrt {(x_{1}-x_{2})^{2}+(y_{1}-y_{2})^{2}}}.}$\n",
        "\n",
        "* #### Manhattan Distance : The distance between two points $(x_{1},y_{1})$ , $(x_{2},y_{2})$ is defined as :\n",
        "${\\displaystyle d(x,y)=|x_{1}-x_{2}|+|y_{1}-y_{2}|}$\n"
      ]
    },
    {
      "cell_type": "markdown",
      "metadata": {
        "id": "lw7TLsfd-eXc"
      },
      "source": [
        "#### Create a 2-D array of 10 points where the x-coordinates and the y-coordinates can take random integral values between 5 and 20.\n",
        "\n",
        "\n",
        "#### Next, create two 1-D arrays(one for  Euclidean distance and the other for  Manhattan distance) for these points\n"
      ]
    },
    {
      "cell_type": "code",
      "metadata": {
        "id": "TOEq4PEP5y8X",
        "colab": {
          "base_uri": "https://localhost:8080/"
        },
        "outputId": "59c8ad7d-ca95-45e3-e482-63b18726eccb"
      },
      "source": [
        "# Create the 10 points\n",
        "\n",
        "twoD_array = np.random.randint(5,20, size = (10,2))\n",
        "twoD_array"
      ],
      "execution_count": null,
      "outputs": [
        {
          "output_type": "execute_result",
          "data": {
            "text/plain": [
              "array([[19, 12],\n",
              "       [10, 16],\n",
              "       [ 7, 12],\n",
              "       [10, 19],\n",
              "       [ 5,  9],\n",
              "       [ 7,  7],\n",
              "       [ 5, 14],\n",
              "       [16,  6],\n",
              "       [ 5,  8],\n",
              "       [ 6,  8]])"
            ]
          },
          "metadata": {},
          "execution_count": 4
        }
      ]
    },
    {
      "cell_type": "code",
      "metadata": {
        "id": "n86qvsfF6PO2",
        "colab": {
          "base_uri": "https://localhost:8080/"
        },
        "outputId": "50da006a-f2e3-484e-d2a4-152423bb153d"
      },
      "source": [
        "# Calculate Euclidean distances between these pairs of points (total 10*10 = 100 pairs including self pairs). This should give you a 10*10 2-D array where each value corresponds to the distance between a pair\n",
        "\n",
        "def eucledian_distance(point1,point2):\n",
        "    \"\"\"Calculates and returns Eucledian Distance\"\"\"\n",
        "    x1,y1=point1\n",
        "    x2,y2=point2\n",
        "    return round(((x2-x1)**2+(y2-y1)**2)**0.5,2)     \n",
        "    \n",
        "euclidean_distances=[]\n",
        "for i in range(10):\n",
        "    inner_llist=[]\n",
        "    for j in range(10):\n",
        "        inner_llist.append(eucledian_distance(twoD_array[i],twoD_array[j]))\n",
        "    euclidean_distances.append(np.asarray(inner_llist))\n",
        "euclidean_distances = np.asarray(euclidean_distances)\n",
        "print(euclidean_distances)"
      ],
      "execution_count": null,
      "outputs": [
        {
          "output_type": "stream",
          "name": "stdout",
          "text": [
            "[[ 0.    9.85 12.   11.4  14.32 13.   14.14  6.71 14.56 13.6 ]\n",
            " [ 9.85  0.    5.    3.    8.6   9.49  5.39 11.66  9.43  8.94]\n",
            " [12.    5.    0.    7.62  3.61  5.    2.83 10.82  4.47  4.12]\n",
            " [11.4   3.    7.62  0.   11.18 12.37  7.07 14.32 12.08 11.7 ]\n",
            " [14.32  8.6   3.61 11.18  0.    2.83  5.   11.4   1.    1.41]\n",
            " [13.    9.49  5.   12.37  2.83  0.    7.28  9.06  2.24  1.41]\n",
            " [14.14  5.39  2.83  7.07  5.    7.28  0.   13.6   6.    6.08]\n",
            " [ 6.71 11.66 10.82 14.32 11.4   9.06 13.6   0.   11.18 10.2 ]\n",
            " [14.56  9.43  4.47 12.08  1.    2.24  6.   11.18  0.    1.  ]\n",
            " [13.6   8.94  4.12 11.7   1.41  1.41  6.08 10.2   1.    0.  ]]\n"
          ]
        }
      ]
    },
    {
      "cell_type": "code",
      "metadata": {
        "id": "-FIU9Wp97V3P",
        "colab": {
          "base_uri": "https://localhost:8080/"
        },
        "outputId": "e2136dde-3ec1-4532-e154-46ee5f147118"
      },
      "source": [
        "# Calculate Manhattan distances between these pairs of points (total 10*10 = 100 pairs inlcuding self pairs).This should give you a 10*10 2-D array where each value corresponds to the distance between a pair.\n",
        "\n",
        "def manhattan_distance(point1,point2):\n",
        "    \"\"\"Calculates and returns manhattan_distance\"\"\"\n",
        "    x1,y1=point1\n",
        "    x2,y2=point2\n",
        "    return round((abs(x1 - x2) + abs(y1 - y2)),2)     \n",
        "    \n",
        "manhattan_distance=[]\n",
        "for i in range(10):\n",
        "    inner_llist=[]\n",
        "    for j in range(10):\n",
        "        inner_llist.append(eucledian_distance(twoD_array[i],twoD_array[j]))\n",
        "    manhattan_distance.append(np.asarray(inner_llist))\n",
        "manhattan_distance = np.asarray(manhattan_distance)\n",
        "print(manhattan_distance)\n",
        "\n"
      ],
      "execution_count": null,
      "outputs": [
        {
          "output_type": "stream",
          "name": "stdout",
          "text": [
            "[[ 0.    9.85 12.   11.4  14.32 13.   14.14  6.71 14.56 13.6 ]\n",
            " [ 9.85  0.    5.    3.    8.6   9.49  5.39 11.66  9.43  8.94]\n",
            " [12.    5.    0.    7.62  3.61  5.    2.83 10.82  4.47  4.12]\n",
            " [11.4   3.    7.62  0.   11.18 12.37  7.07 14.32 12.08 11.7 ]\n",
            " [14.32  8.6   3.61 11.18  0.    2.83  5.   11.4   1.    1.41]\n",
            " [13.    9.49  5.   12.37  2.83  0.    7.28  9.06  2.24  1.41]\n",
            " [14.14  5.39  2.83  7.07  5.    7.28  0.   13.6   6.    6.08]\n",
            " [ 6.71 11.66 10.82 14.32 11.4   9.06 13.6   0.   11.18 10.2 ]\n",
            " [14.56  9.43  4.47 12.08  1.    2.24  6.   11.18  0.    1.  ]\n",
            " [13.6   8.94  4.12 11.7   1.41  1.41  6.08 10.2   1.    0.  ]]\n"
          ]
        }
      ]
    },
    {
      "cell_type": "markdown",
      "metadata": {
        "id": "5ZaKtQlZBLoQ"
      },
      "source": [
        "#### Find the closest pairs (excluding self pairs) on the basis of both the distance measures"
      ]
    },
    {
      "cell_type": "code",
      "metadata": {
        "id": "AeKJGamV6qnu",
        "colab": {
          "base_uri": "https://localhost:8080/"
        },
        "outputId": "5a137f87-68c0-41ae-b923-4a62c790e65d"
      },
      "source": [
        "# Your code here\n",
        "\n",
        "nearest_points_manhattan=[]\n",
        "for ind,arr in enumerate(manhattan_distance + np.identity(10)*1000):\n",
        "    nearest_points_manhattan.append((twoD_array[ind],twoD_array[arr.argmin()]))         \n",
        "    \n",
        "print(nearest_points_manhattan)\n",
        "\n",
        "nearest_points_euclidean=[]\n",
        "for ind,arr in enumerate(euclidean_distances+np.identity(10)*1000):\n",
        "    nearest_points_euclidean.append((twoD_array[ind],twoD_array[arr.argmin()]))        \n",
        "\n",
        "print(nearest_points_euclidean)"
      ],
      "execution_count": null,
      "outputs": [
        {
          "output_type": "stream",
          "name": "stdout",
          "text": [
            "[(array([19, 12]), array([16,  6])), (array([10, 16]), array([10, 19])), (array([ 7, 12]), array([ 5, 14])), (array([10, 19]), array([10, 16])), (array([5, 9]), array([5, 8])), (array([7, 7]), array([6, 8])), (array([ 5, 14]), array([ 7, 12])), (array([16,  6]), array([19, 12])), (array([5, 8]), array([5, 9])), (array([6, 8]), array([5, 8]))]\n",
            "[(array([19, 12]), array([16,  6])), (array([10, 16]), array([10, 19])), (array([ 7, 12]), array([ 5, 14])), (array([10, 19]), array([10, 16])), (array([5, 9]), array([5, 8])), (array([7, 7]), array([6, 8])), (array([ 5, 14]), array([ 7, 12])), (array([16,  6]), array([19, 12])), (array([5, 8]), array([5, 9])), (array([6, 8]), array([5, 8]))]\n"
          ]
        }
      ]
    },
    {
      "cell_type": "markdown",
      "metadata": {
        "id": "rnEIpxdzfIhF"
      },
      "source": [
        "#### **Problem 3**\n",
        "\n",
        "#### Extract all the contiguous 3x3 blocks from a random 10x10 matrix. For example, the first matrix corresponds to [:3,:3], then the second matrix corresponds to [:3,1:4],.... Once you have covered the first three rows, then the next set of matrices would be [1:4,:3],[1:4,1:4],.... and so on and so forth. The last matrix would be [7:10,7:10]"
      ]
    },
    {
      "cell_type": "code",
      "metadata": {
        "id": "NuQh8LLBma-0",
        "colab": {
          "base_uri": "https://localhost:8080/"
        },
        "outputId": "2047aca2-81cd-4db5-f70e-25b5ce4711f3"
      },
      "source": [
        "# Your code below ..\n",
        "\n",
        "contiguous_list = []\n",
        "\n",
        "extract = np.random.randint(10,50, size = (10,10))\n",
        "print(extract)\n",
        "\n",
        "for row in range(0,8):\n",
        "  for col in range(0,8):\n",
        "    contiguous_list.append(extract[row:row + 3, col:col + 3])\n",
        "\n",
        "contiguous_array = np.asarray(contiguous_list)\n",
        "\n",
        "print(contiguous_array)"
      ],
      "execution_count": null,
      "outputs": [
        {
          "output_type": "stream",
          "name": "stdout",
          "text": [
            "[[11 37 43 42 41 12 32 20 39 35]\n",
            " [27 13 11 11 25 43 43 21 21 23]\n",
            " [47 46 32 27 19 39 13 40 48 38]\n",
            " [34 11 11 38 26 35 45 20 19 14]\n",
            " [38 26 44 10 40 24 11 24 11 46]\n",
            " [10 13 17 42 34 45 40 20 39 33]\n",
            " [49 40 47 22 45 44 28 36 41 25]\n",
            " [35 28 24 48 13 36 47 22 11 15]\n",
            " [20 46 13 32 15 21 29 45 44 49]\n",
            " [21 10 15 46 11 36 31 26 23 25]]\n",
            "[[[11 37 43]\n",
            "  [27 13 11]\n",
            "  [47 46 32]]\n",
            "\n",
            " [[37 43 42]\n",
            "  [13 11 11]\n",
            "  [46 32 27]]\n",
            "\n",
            " [[43 42 41]\n",
            "  [11 11 25]\n",
            "  [32 27 19]]\n",
            "\n",
            " [[42 41 12]\n",
            "  [11 25 43]\n",
            "  [27 19 39]]\n",
            "\n",
            " [[41 12 32]\n",
            "  [25 43 43]\n",
            "  [19 39 13]]\n",
            "\n",
            " [[12 32 20]\n",
            "  [43 43 21]\n",
            "  [39 13 40]]\n",
            "\n",
            " [[32 20 39]\n",
            "  [43 21 21]\n",
            "  [13 40 48]]\n",
            "\n",
            " [[20 39 35]\n",
            "  [21 21 23]\n",
            "  [40 48 38]]\n",
            "\n",
            " [[27 13 11]\n",
            "  [47 46 32]\n",
            "  [34 11 11]]\n",
            "\n",
            " [[13 11 11]\n",
            "  [46 32 27]\n",
            "  [11 11 38]]\n",
            "\n",
            " [[11 11 25]\n",
            "  [32 27 19]\n",
            "  [11 38 26]]\n",
            "\n",
            " [[11 25 43]\n",
            "  [27 19 39]\n",
            "  [38 26 35]]\n",
            "\n",
            " [[25 43 43]\n",
            "  [19 39 13]\n",
            "  [26 35 45]]\n",
            "\n",
            " [[43 43 21]\n",
            "  [39 13 40]\n",
            "  [35 45 20]]\n",
            "\n",
            " [[43 21 21]\n",
            "  [13 40 48]\n",
            "  [45 20 19]]\n",
            "\n",
            " [[21 21 23]\n",
            "  [40 48 38]\n",
            "  [20 19 14]]\n",
            "\n",
            " [[47 46 32]\n",
            "  [34 11 11]\n",
            "  [38 26 44]]\n",
            "\n",
            " [[46 32 27]\n",
            "  [11 11 38]\n",
            "  [26 44 10]]\n",
            "\n",
            " [[32 27 19]\n",
            "  [11 38 26]\n",
            "  [44 10 40]]\n",
            "\n",
            " [[27 19 39]\n",
            "  [38 26 35]\n",
            "  [10 40 24]]\n",
            "\n",
            " [[19 39 13]\n",
            "  [26 35 45]\n",
            "  [40 24 11]]\n",
            "\n",
            " [[39 13 40]\n",
            "  [35 45 20]\n",
            "  [24 11 24]]\n",
            "\n",
            " [[13 40 48]\n",
            "  [45 20 19]\n",
            "  [11 24 11]]\n",
            "\n",
            " [[40 48 38]\n",
            "  [20 19 14]\n",
            "  [24 11 46]]\n",
            "\n",
            " [[34 11 11]\n",
            "  [38 26 44]\n",
            "  [10 13 17]]\n",
            "\n",
            " [[11 11 38]\n",
            "  [26 44 10]\n",
            "  [13 17 42]]\n",
            "\n",
            " [[11 38 26]\n",
            "  [44 10 40]\n",
            "  [17 42 34]]\n",
            "\n",
            " [[38 26 35]\n",
            "  [10 40 24]\n",
            "  [42 34 45]]\n",
            "\n",
            " [[26 35 45]\n",
            "  [40 24 11]\n",
            "  [34 45 40]]\n",
            "\n",
            " [[35 45 20]\n",
            "  [24 11 24]\n",
            "  [45 40 20]]\n",
            "\n",
            " [[45 20 19]\n",
            "  [11 24 11]\n",
            "  [40 20 39]]\n",
            "\n",
            " [[20 19 14]\n",
            "  [24 11 46]\n",
            "  [20 39 33]]\n",
            "\n",
            " [[38 26 44]\n",
            "  [10 13 17]\n",
            "  [49 40 47]]\n",
            "\n",
            " [[26 44 10]\n",
            "  [13 17 42]\n",
            "  [40 47 22]]\n",
            "\n",
            " [[44 10 40]\n",
            "  [17 42 34]\n",
            "  [47 22 45]]\n",
            "\n",
            " [[10 40 24]\n",
            "  [42 34 45]\n",
            "  [22 45 44]]\n",
            "\n",
            " [[40 24 11]\n",
            "  [34 45 40]\n",
            "  [45 44 28]]\n",
            "\n",
            " [[24 11 24]\n",
            "  [45 40 20]\n",
            "  [44 28 36]]\n",
            "\n",
            " [[11 24 11]\n",
            "  [40 20 39]\n",
            "  [28 36 41]]\n",
            "\n",
            " [[24 11 46]\n",
            "  [20 39 33]\n",
            "  [36 41 25]]\n",
            "\n",
            " [[10 13 17]\n",
            "  [49 40 47]\n",
            "  [35 28 24]]\n",
            "\n",
            " [[13 17 42]\n",
            "  [40 47 22]\n",
            "  [28 24 48]]\n",
            "\n",
            " [[17 42 34]\n",
            "  [47 22 45]\n",
            "  [24 48 13]]\n",
            "\n",
            " [[42 34 45]\n",
            "  [22 45 44]\n",
            "  [48 13 36]]\n",
            "\n",
            " [[34 45 40]\n",
            "  [45 44 28]\n",
            "  [13 36 47]]\n",
            "\n",
            " [[45 40 20]\n",
            "  [44 28 36]\n",
            "  [36 47 22]]\n",
            "\n",
            " [[40 20 39]\n",
            "  [28 36 41]\n",
            "  [47 22 11]]\n",
            "\n",
            " [[20 39 33]\n",
            "  [36 41 25]\n",
            "  [22 11 15]]\n",
            "\n",
            " [[49 40 47]\n",
            "  [35 28 24]\n",
            "  [20 46 13]]\n",
            "\n",
            " [[40 47 22]\n",
            "  [28 24 48]\n",
            "  [46 13 32]]\n",
            "\n",
            " [[47 22 45]\n",
            "  [24 48 13]\n",
            "  [13 32 15]]\n",
            "\n",
            " [[22 45 44]\n",
            "  [48 13 36]\n",
            "  [32 15 21]]\n",
            "\n",
            " [[45 44 28]\n",
            "  [13 36 47]\n",
            "  [15 21 29]]\n",
            "\n",
            " [[44 28 36]\n",
            "  [36 47 22]\n",
            "  [21 29 45]]\n",
            "\n",
            " [[28 36 41]\n",
            "  [47 22 11]\n",
            "  [29 45 44]]\n",
            "\n",
            " [[36 41 25]\n",
            "  [22 11 15]\n",
            "  [45 44 49]]\n",
            "\n",
            " [[35 28 24]\n",
            "  [20 46 13]\n",
            "  [21 10 15]]\n",
            "\n",
            " [[28 24 48]\n",
            "  [46 13 32]\n",
            "  [10 15 46]]\n",
            "\n",
            " [[24 48 13]\n",
            "  [13 32 15]\n",
            "  [15 46 11]]\n",
            "\n",
            " [[48 13 36]\n",
            "  [32 15 21]\n",
            "  [46 11 36]]\n",
            "\n",
            " [[13 36 47]\n",
            "  [15 21 29]\n",
            "  [11 36 31]]\n",
            "\n",
            " [[36 47 22]\n",
            "  [21 29 45]\n",
            "  [36 31 26]]\n",
            "\n",
            " [[47 22 11]\n",
            "  [29 45 44]\n",
            "  [31 26 23]]\n",
            "\n",
            " [[22 11 15]\n",
            "  [45 44 49]\n",
            "  [26 23 25]]]\n"
          ]
        }
      ]
    },
    {
      "cell_type": "markdown",
      "metadata": {
        "id": "UtGDDH9Qq_2M"
      },
      "source": [
        "#### **Problem 4** \n",
        "\n",
        "#### Write a function which finds the nearest value from a given value in an array of random N elements. Suppose you created an 1-D array with 15 elements taking values between 10 and 500. Your function would take any input from these values and return the nearest value. (You can use np.abs() function)"
      ]
    },
    {
      "cell_type": "code",
      "metadata": {
        "id": "oknMAmKWFNSX",
        "colab": {
          "base_uri": "https://localhost:8080/"
        },
        "outputId": "381faff2-6fb4-4dc6-f07b-3a42bfb26d7c"
      },
      "source": [
        "# Your function below\n",
        "\n",
        "def get_nearest_value(elem,array):\n",
        "    \"\"\"Return the nearest value in the given array for given input\"\"\"\n",
        "    nearest_value = array.flat[np.abs(array - elem).argmin()]                   \n",
        "    return nearest_value\n",
        "array=np.random.randint(10,500, size=(1, 15))\n",
        "print(array)"
      ],
      "execution_count": null,
      "outputs": [
        {
          "output_type": "stream",
          "name": "stdout",
          "text": [
            "[[308 417  12 473 130  85 294 443  93 476 375 353 380 484  90]]\n"
          ]
        }
      ]
    },
    {
      "cell_type": "code",
      "source": [
        "ele=int(input(\"Enter the element for which you want to find the nearest value for \"))\n",
        "print(f\"Nearest point to {ele} is {get_nearest_value(ele,array)}\")"
      ],
      "metadata": {
        "colab": {
          "base_uri": "https://localhost:8080/"
        },
        "id": "Ohdkvkv09CZx",
        "outputId": "ba7e7cb2-b509-4364-a3fb-b5ac1a74d2df"
      },
      "execution_count": null,
      "outputs": [
        {
          "output_type": "stream",
          "name": "stdout",
          "text": [
            "Enter the element for which you want to find the nearest value for 2\n",
            "Nearest point to 2 is 12\n"
          ]
        }
      ]
    }
  ]
}