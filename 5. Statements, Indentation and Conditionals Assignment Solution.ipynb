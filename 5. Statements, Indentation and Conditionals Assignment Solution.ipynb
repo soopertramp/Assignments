{
  "nbformat": 4,
  "nbformat_minor": 0,
  "metadata": {
    "kernelspec": {
      "display_name": "Python 3",
      "language": "python",
      "name": "python3"
    },
    "language_info": {
      "codemirror_mode": {
        "name": "ipython",
        "version": 3
      },
      "file_extension": ".py",
      "mimetype": "text/x-python",
      "name": "python",
      "nbconvert_exporter": "python",
      "pygments_lexer": "ipython3",
      "version": "3.7.4"
    },
    "colab": {
      "provenance": [],
      "include_colab_link": true
    }
  },
  "cells": [
    {
      "cell_type": "markdown",
      "metadata": {
        "id": "view-in-github",
        "colab_type": "text"
      },
      "source": [
        "<a href=\"https://colab.research.google.com/github/soopertramp/Assignments/blob/main/5.%20Statements%2C%20Indentation%20and%20Conditionals%20Assignment%20Solution.ipynb\" target=\"_parent\"><img src=\"https://colab.research.google.com/assets/colab-badge.svg\" alt=\"Open In Colab\"/></a>"
      ]
    },
    {
      "cell_type": "markdown",
      "metadata": {
        "id": "8WbUJEVzs8Bx"
      },
      "source": [
        "#### **Assignment Solution - While doing this assignment only use those concepts which have been taught till now**"
      ]
    },
    {
      "cell_type": "markdown",
      "metadata": {
        "id": "KjPWYK0Rs8By"
      },
      "source": [
        "#### **Problem 1**\n",
        "\n",
        "#### As an analyst, you had to present the quarterly performance results of your client. The data which you were provided was on daily basis. To complete this task, you needed to extract the quarter from a given date. For example:\n",
        "\n",
        "* if the date lies between 1st Jan, 2020 - 31st March, 2020, you need to extract the corresponding quarter as '2020-Q1'\n",
        "\n",
        "* if the date lies between 1st April, 2020 - 30th June, 2020, the extracted quarter will be '2020-Q2'\n",
        "\n",
        "* if the date lies between 1st July, 2020 - 30th September, 2020, the extracted quarter will be '2020-Q3' \n",
        "\n",
        "* if the date lies between 1st October, 2020 - 31st Decemeber, 2020 then the extracted quarter will be '2020-Q4'\n"
      ]
    },
    {
      "cell_type": "code",
      "metadata": {
        "id": "RxVZTrenzfHC",
        "colab": {
          "base_uri": "https://localhost:8080/"
        },
        "outputId": "4276de31-8921-4104-9513-95d6b9ecfea4"
      },
      "source": [
        "# Take a proper date input from the user in the format YYYY-MM-DD. Consider this date as a string\n",
        "user_date = input() #2022-11-18"
      ],
      "execution_count": null,
      "outputs": [
        {
          "name": "stdout",
          "output_type": "stream",
          "text": [
            "2022-11-18\n"
          ]
        }
      ]
    },
    {
      "cell_type": "code",
      "metadata": {
        "id": "N1Yhpkiws8B3"
      },
      "source": [
        "# Write your code using if else statements to extract the quarter\n",
        "date_year = user_date[0:4]\n",
        "date_month = user_date[5:7]\n",
        "\n",
        "# Store the quarter value in a string variable named quarter\n",
        "\n",
        "if (date_month >= '01') & (date_month <='03'):\n",
        "    quarter = date_year + '- Q1'\n",
        "elif (date_month >= '04') & (date_month <='06'):\n",
        "    quarter = date_year + '- Q2'\n",
        "elif (date_month >= '07') & (date_month <='09'):\n",
        "    quarter = date_year + '- Q3'\n",
        "else:\n",
        "    quarter = date_year + '- Q4'"
      ],
      "execution_count": null,
      "outputs": []
    },
    {
      "cell_type": "code",
      "metadata": {
        "id": "KpMdlB5Fs8B8",
        "colab": {
          "base_uri": "https://localhost:8080/"
        },
        "outputId": "bff9c51b-0519-46ba-9f8a-eb5a7bfead34"
      },
      "source": [
        "# Print the extracted quarter\n",
        "print(quarter)"
      ],
      "execution_count": null,
      "outputs": [
        {
          "output_type": "stream",
          "name": "stdout",
          "text": [
            "2022- Q4\n"
          ]
        }
      ]
    },
    {
      "cell_type": "markdown",
      "metadata": {
        "id": "5qd8g8UUs8CM"
      },
      "source": [
        "#### **Problem 2**\n",
        "\n",
        "* You went out in your local neighbourhood to collect the data of people residing in the locale. You surveyed 5 people and collected some data and stored that in a dictionary. You recorded their names, their age, their sex, their heights(in cms) and their weights(in kgs)"
      ]
    },
    {
      "cell_type": "code",
      "metadata": {
        "id": "FBJy9Sq_s8CN"
      },
      "source": [
        "# Surveyed data \n",
        "\n",
        "locality_data = {'Name' : ['Abhinav','Sohail','Dheeraj','Rashmi','Vaishali'],\n",
        "                  'Age' : [42,29,35,28,32],\n",
        "                  'Sex' : ['Male', 'Male','Male','Female','Female'] , \n",
        "                  'Height' : [172,175,170,168,170],\n",
        "                  'Weight' : [70,82,60,55,64]\n",
        "                 }"
      ],
      "execution_count": null,
      "outputs": []
    },
    {
      "cell_type": "markdown",
      "metadata": {
        "id": "2_rBSgqz5Ums"
      },
      "source": [
        "* Find the mean and median heights and weights of the people in your locality"
      ]
    },
    {
      "cell_type": "code",
      "metadata": {
        "id": "zywXa51d6Eev",
        "colab": {
          "base_uri": "https://localhost:8080/"
        },
        "outputId": "a9cdd765-ec9e-4c3d-bf55-c3cc2d404512"
      },
      "source": [
        "# Calculate the mean height and print it\n",
        "\n",
        "height = sum(locality_data['Height']) / len(locality_data['Height'])\n",
        "print(f'The mean height is {height}')\n",
        "\n",
        "# Calculate the median height and print it\n",
        "\n",
        "h = list(locality_data['Height'])\n",
        "h.sort()\n",
        "print(h)\n",
        "median_height = h[int((len(h))/2)]\n",
        "print(f'The median height is {median_height}')\n",
        "\n",
        "# Calculate the mean weight and print it\n",
        "\n",
        "mean_weight = sum(locality_data['Weight']) / len(locality_data['Weight'])\n",
        "print(f'The Mean weight is {mean_weight}')\n",
        "\n",
        "# Calculate the median weight and print it\n",
        "\n",
        "w = list(locality_data['Weight'])\n",
        "w.sort()\n",
        "print(w)\n",
        "median_weight = w[int((len(w)) / 2)]\n",
        "print(f'The median weight is {median_weight}')"
      ],
      "execution_count": null,
      "outputs": [
        {
          "output_type": "stream",
          "name": "stdout",
          "text": [
            "The mean height is 171.0\n",
            "[168, 170, 170, 172, 175]\n",
            "The median height is 170\n",
            "The Mean weight is 66.2\n",
            "[55, 60, 64, 70, 82]\n",
            "The median weight is 64\n"
          ]
        }
      ]
    },
    {
      "cell_type": "markdown",
      "source": [
        "##### **Easy Method**"
      ],
      "metadata": {
        "id": "9wndW6z1KYC0"
      }
    },
    {
      "cell_type": "code",
      "source": [
        "# Calculate the mean height and print it\n",
        "heights = locality_data['Height']\n",
        "# Calculate the mean of the heights\n",
        "mean_height = sum(heights)/len(heights)\n",
        "print(mean_height)\n",
        "\n",
        "\n",
        "# Calculate the median height and print it\n",
        "sorted_heights = sorted(heights)\n",
        "median_height = sorted_heights[int((len(sorted_heights))/2)]\n",
        "print(median_height)\n",
        "\n",
        "\n",
        "\n",
        "# Calculate the mean weight and print it\n",
        "weights = locality_data['Weight']\n",
        "# Calculate the mean of the weights\n",
        "mean_weight = sum(weights)/len(weights)\n",
        "print(mean_weight)\n",
        "\n",
        "\n",
        "# Calculate the median height and print it\n",
        "sorted_weights = sorted(weights)\n",
        "median_weight = sorted_weights[int((len(sorted_weights))/2 )]\n",
        "print(median_weight)"
      ],
      "metadata": {
        "colab": {
          "base_uri": "https://localhost:8080/"
        },
        "id": "A3nZlm0lKTbL",
        "outputId": "ccc750a1-2a82-4c9c-c481-07421c2b895d"
      },
      "execution_count": null,
      "outputs": [
        {
          "output_type": "stream",
          "name": "stdout",
          "text": [
            "171.0\n",
            "170\n",
            "66.2\n",
            "64\n"
          ]
        }
      ]
    },
    {
      "cell_type": "markdown",
      "metadata": {
        "id": "yLb5awgPQeYA"
      },
      "source": [
        "* Write a Python code to print the first three elements from the list of age values corresponding to the key 'Age'"
      ]
    },
    {
      "cell_type": "code",
      "metadata": {
        "id": "wef2fVgx6Gji",
        "colab": {
          "base_uri": "https://localhost:8080/"
        },
        "outputId": "0fec34a2-2da6-453e-87cc-d29b94f7ed53"
      },
      "source": [
        "# Python code to print the first three elements for the key 'Age'\n",
        "\n",
        "ages = locality_data['Age'][0:3]\n",
        "print(ages)"
      ],
      "execution_count": null,
      "outputs": [
        {
          "output_type": "stream",
          "name": "stdout",
          "text": [
            "[42, 29, 35]\n"
          ]
        }
      ]
    },
    {
      "cell_type": "markdown",
      "metadata": {
        "id": "NGrZaqulRIM1"
      },
      "source": [
        "* Write a Python code to print the last two elements of the name list if the list of values corresponding to the key 'Name' contains the element 'Rashmi' else print 'Name not found'"
      ]
    },
    {
      "cell_type": "code",
      "metadata": {
        "id": "TBRZzwAcRTNL",
        "colab": {
          "base_uri": "https://localhost:8080/"
        },
        "outputId": "5cf4481d-57df-4f3d-8be6-788763084a93"
      },
      "source": [
        "# Your code below\n",
        "name_list = locality_data['Name']\n",
        "print(name_list)\n",
        "\n",
        "if 'Rashmi' in name_list:\n",
        "  print(name_list[-2:-1])\n",
        "else:\n",
        "  print(\"Name not found\")"
      ],
      "execution_count": null,
      "outputs": [
        {
          "output_type": "stream",
          "name": "stdout",
          "text": [
            "['Abhinav', 'Sohail', 'Dheeraj', 'Rashmi', 'Vaishali']\n",
            "['Rashmi']\n"
          ]
        }
      ]
    },
    {
      "cell_type": "markdown",
      "metadata": {
        "id": "ejRCi-vTs8CU"
      },
      "source": [
        "#### **Problem 3**\n",
        "\n",
        "A student will not be allowed to sit in exam if his/her attendence is less than 75%.\n",
        "\n",
        "Take following input from user\n",
        "* Number of classes held\n",
        "* Number of classes attended."
      ]
    },
    {
      "cell_type": "code",
      "metadata": {
        "id": "C5olNuDGs8CU",
        "colab": {
          "base_uri": "https://localhost:8080/"
        },
        "outputId": "fe901b76-8361-4598-9bea-d8c7b865c8f3"
      },
      "source": [
        "# Enter your input\n",
        "\n",
        "print(\"Number of classes held\")\n",
        "classes_held = int(input())\n",
        "\n",
        "print(\"Number of classes attended\")\n",
        "classes_attended = int(input())"
      ],
      "execution_count": null,
      "outputs": [
        {
          "name": "stdout",
          "output_type": "stream",
          "text": [
            "Number of classes held\n",
            "100\n",
            "Number of classes attended\n",
            "80\n"
          ]
        }
      ]
    },
    {
      "cell_type": "code",
      "metadata": {
        "id": "i553Hqamm2jR",
        "colab": {
          "base_uri": "https://localhost:8080/"
        },
        "outputId": "0ec25324-f510-400c-f004-21d351ef044e"
      },
      "source": [
        "# Calculate the attendance percentage\n",
        "attendance = classes_attended*100/classes_held\n",
        "\n",
        "print(f'The attendance is {attendance}')"
      ],
      "execution_count": null,
      "outputs": [
        {
          "output_type": "stream",
          "name": "stdout",
          "text": [
            "The attendance is 80.0\n"
          ]
        }
      ]
    },
    {
      "cell_type": "markdown",
      "metadata": {
        "id": "QYDpXSANnKxV"
      },
      "source": [
        "And print the following statements based on the condition above\n",
        "\n",
        "* percentage of class attended\n",
        "* Is student is allowed to sit in exam or not."
      ]
    },
    {
      "cell_type": "code",
      "metadata": {
        "id": "SoQ3P0yym2ts",
        "colab": {
          "base_uri": "https://localhost:8080/"
        },
        "outputId": "8f97ede6-d199-413f-ab12-26917a33e8a3"
      },
      "source": [
        "# Your code here \n",
        "print(f'Percentage of class attended is {attendance}')\n",
        "if attendance >= 75:\n",
        "  print(f'Student can sit in the exam')\n",
        "else:\n",
        "  print(f'Sorry! student can not sit in the exam')"
      ],
      "execution_count": null,
      "outputs": [
        {
          "output_type": "stream",
          "name": "stdout",
          "text": [
            "Percentage of class attended is 80.0\n",
            "Student can sit in the exam\n"
          ]
        }
      ]
    },
    {
      "cell_type": "markdown",
      "metadata": {
        "id": "P1rOYC8Is8Cf"
      },
      "source": [
        "#### **Problem 4**\n",
        "\n",
        "#### A school has following rules for grading system:\n",
        "* Below 25 - F\n",
        "* 25 to 45 - E\n",
        "* 45 to 50 - D\n",
        "* 50 to 60 - C\n",
        "* 60 to 80 - B\n",
        "* Above 80 - A\n",
        "\n",
        "Keep the left number inclusive and the right number exclusive, something like [25,45) for grade E where the set is closed at 25 and open at 45.\n",
        "\n",
        "Write a Python code which takes marks as inputs from the user and print the corresponding grade."
      ]
    },
    {
      "cell_type": "code",
      "metadata": {
        "id": "ySeGyCtCs8Cg",
        "colab": {
          "base_uri": "https://localhost:8080/"
        },
        "outputId": "b50a5eea-58a8-474f-ac4b-a379f35da4be"
      },
      "source": [
        "# Your input here \n",
        "print(\"Enter your marks\")\n",
        "marks = int(input())"
      ],
      "execution_count": null,
      "outputs": [
        {
          "name": "stdout",
          "output_type": "stream",
          "text": [
            "Enter your marks\n",
            "60\n"
          ]
        }
      ]
    },
    {
      "cell_type": "code",
      "metadata": {
        "id": "MI7mOHaqs8Cj",
        "colab": {
          "base_uri": "https://localhost:8080/"
        },
        "outputId": "2148f77d-53d1-4dd1-ee1b-d589716470ac"
      },
      "source": [
        "# Your code here to print the corresponding grade\n",
        "\n",
        "if marks < 25:\n",
        "  print('Your Grade is F')\n",
        "elif marks >=25 and marks <45:\n",
        "  print('Your Grade is E')\n",
        "elif marks >=45 and marks <50:\n",
        "  print('Your Grade is D')\n",
        "elif marks >=50 and marks <60:\n",
        "  print('Your Grade is C')\n",
        "elif marks >=60 and marks <80:\n",
        "  print('Your Grade is B')\n",
        "else:\n",
        "  print('Your Grade is A')"
      ],
      "execution_count": null,
      "outputs": [
        {
          "output_type": "stream",
          "name": "stdout",
          "text": [
            "Your Grade is B\n"
          ]
        }
      ]
    }
  ]
}